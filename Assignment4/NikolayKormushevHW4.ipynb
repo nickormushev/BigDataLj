{
 "cells": [
  {
   "cell_type": "code",
   "execution_count": 40,
   "metadata": {},
   "outputs": [],
   "source": [
    "import xml.etree.ElementTree as ET\n",
    "import mrjob"
   ]
  },
  {
   "cell_type": "code",
   "execution_count": 42,
   "metadata": {},
   "outputs": [
    {
     "name": "stdout",
     "output_type": "stream",
     "text": [
      "[8]\n",
      "[5, 6, 8]\n",
      "[4, 8]\n",
      "[6, 10, 14]\n",
      "[2, 10, 14]\n",
      "[1]\n",
      "[1, 3, 7, 15]\n",
      "[6]\n",
      "[0, 1, 2, 12, 13, 15]\n",
      "[13]\n",
      "[3, 4, 14]\n",
      "[]\n",
      "[8, 14, 15]\n",
      "[8, 9]\n",
      "[3, 4, 10, 12]\n",
      "[6, 8, 12]\n",
      "[]\n",
      "[]\n",
      "[4, 5, 8, 10]\n",
      "[6, 7, 10]\n",
      "[2, 7, 10]\n",
      "[2, 8]\n",
      "[3, 7]\n",
      "[3, 4, 6, 10]\n",
      "[2, 5, 9, 13, 15]\n",
      "[8]\n",
      "[2, 3, 4, 7]\n",
      "[]\n",
      "[]\n",
      "[8]\n",
      "[]\n",
      "[8]\n",
      "Nodes:\n",
      "Node ID: 0 - Node Name: ACCIAIUOL\n",
      "Node ID: 1 - Node Name: ALBIZZI\n",
      "Node ID: 2 - Node Name: BARBADORI\n",
      "Node ID: 3 - Node Name: BISCHERI\n",
      "Node ID: 4 - Node Name: CASTELLAN\n",
      "Node ID: 5 - Node Name: GINORI\n",
      "Node ID: 6 - Node Name: GUADAGNI\n",
      "Node ID: 7 - Node Name: LAMBERTES\n",
      "Node ID: 8 - Node Name: MEDICI\n",
      "Node ID: 9 - Node Name: PAZZI\n",
      "Node ID: 10 - Node Name: PERUZZI\n",
      "Node ID: 11 - Node Name: PUCCI\n",
      "Node ID: 12 - Node Name: RIDOLFI\n",
      "Node ID: 13 - Node Name: SALVIATI\n",
      "Node ID: 14 - Node Name: STROZZI\n",
      "Node ID: 15 - Node Name: TORNABUON\n",
      "\n",
      "Networks:\n",
      "Network ID: PADGB\n"
     ]
    }
   ],
   "source": [
    "def parse_dynetml(xml_file):\n",
    "    tree = ET.parse(xml_file)\n",
    "    root = tree.getroot()\n",
    "\n",
    "    # Extract nodes\n",
    "    node_count = 0\n",
    "    nodes = {}\n",
    "    nodes_inverse = {}\n",
    "    for node_class in root.findall('.//nodeclass'):\n",
    "        for idx, node in enumerate(node_class.findall('.//node')):\n",
    "            nodes[node.attrib['id']] = idx    \n",
    "            nodes_inverse[idx] = node.attrib['id']\n",
    "            node_count += 1\n",
    "\n",
    "    # Extract networks\n",
    "    networks = {}\n",
    "    for network in root.findall('.//network'):\n",
    "        links = [[] for _ in range(node_count)]\n",
    "        network_id = network.attrib['id']\n",
    "        linksXml = network.findall('.//link')\n",
    "        for link in linksXml :\n",
    "            # Check if the link exists\n",
    "            if float(link.attrib['value']) > 0:\n",
    "                source = nodes[link.attrib['source']]\n",
    "                target = nodes[link.attrib['target']]\n",
    "                links[source].append(target)\n",
    "        \n",
    "        node_count = len(links)\n",
    "        for i in range(len(links)):\n",
    "            links_temp = links[i]\n",
    "            print(links[i])\n",
    "            links[i] = [1.0 / node_count, len(links[i]), links_temp]\n",
    "\n",
    "        networks[network_id] = links\n",
    "\n",
    "    return nodes, networks, nodes_inverse\n",
    "\n",
    "# Example usage\n",
    "nodes, networks, inverse = parse_dynetml('padgett.xml')\n",
    "\n",
    "print(\"Nodes:\")\n",
    "for node_id, node_name in enumerate(nodes):\n",
    "    print(f\"Node ID: {node_id} - Node Name: {node_name}\")\n",
    "\n",
    "print(\"\\nNetworks:\")\n",
    "with open('PADGB.txt', 'w') as f:\n",
    "    for network_id, network_links in networks.items():\n",
    "        if network_id == 'PADGM':\n",
    "            continue\n",
    "        print(f\"Network ID: {network_id}\")\n",
    "        for idx, el in enumerate(network_links):\n",
    "            f.write(f\"{idx}: {el}\\n\")"
   ]
  },
  {
   "cell_type": "code",
   "execution_count": 39,
   "metadata": {},
   "outputs": [
    {
     "name": "stdout",
     "output_type": "stream",
     "text": [
      "Writing main.py\n"
     ]
    }
   ],
   "source": [
    "%%file main.py\n",
    "from mrjob.job import MRJob\n",
    "import xml.etree.ElementTree as ET\n",
    "import ast\n",
    "from mrjob.step import MRStep\n",
    "\n",
    "\n",
    "D = 0\n",
    "s = 0.85\n",
    "node_count = 0\n",
    "\n",
    "class MRPageRank(MRJob):\n",
    "\n",
    "    def steps(self):\n",
    "        return [\n",
    "            MRStep(mapper=self.ip_mapper,\n",
    "                     reducer=self.ip_reducer),\n",
    "            MRStep(mapper=self.mapper,\n",
    "                   reducer=self.reducer)\n",
    "        ]\n",
    "\n",
    "    def ip_mapper(self, _, line):\n",
    "        idx, line = line.split(':', 1)\n",
    "        key = int(idx)\n",
    "        global node_count, D\n",
    "        D = 0\n",
    "        if key + 1 > node_count:\n",
    "            node_count = key + 1\n",
    "\n",
    "        parsed_line = ast.literal_eval(line)\n",
    "        p_self = parsed_line[0]\n",
    "        neighbor_count = parsed_line[1]\n",
    "        neighbors = parsed_line[2]\n",
    "\n",
    "        if neighbor_count == 0: yield 1, [p_self]\n",
    "\n",
    "        yield key, (p_self, neighbor_count, neighbors) \n",
    "    \n",
    "    def ip_reducer(self, key, values):\n",
    "        global D\n",
    "        for value in values:\n",
    "            if len(value) == 1:\n",
    "                D += float(value[0])\n",
    "                continue\n",
    "            \n",
    "            yield key, value\n",
    "\n",
    "\n",
    "    def mapper(self, key, vals):\n",
    "        p_self, neighbor_count, neighbors = vals\n",
    "        for neigh in neighbors:\n",
    "            yield neigh, p_self/neighbor_count\n",
    "\n",
    "        yield key, (0.0, p_self, neighbor_count, neighbors)\n",
    "\n",
    "\n",
    "    def reducer(self, key, values):\n",
    "        global D, s, node_count\n",
    "        probSum = 0\n",
    "        for val in values:\n",
    "            if not isinstance(val, float):\n",
    "                p_old = val[1]\n",
    "                neighbor_count = val[2]\n",
    "                neighbors = val[3]\n",
    "            else:\n",
    "                probSum += val\n",
    "        p_new = s * probSum + (s * D  + 1.0 - s) / node_count\n",
    "        yield key, [p_new, neighbor_count, neighbors, p_old]\n",
    "\n",
    "\n",
    "if __name__ == '__main__':\n",
    "    MRPageRank.run()"
   ]
  },
  {
   "cell_type": "code",
   "execution_count": 38,
   "metadata": {},
   "outputs": [
    {
     "name": "stderr",
     "output_type": "stream",
     "text": [
      "No configs specified for inline runner\n"
     ]
    },
    {
     "name": "stdout",
     "output_type": "stream",
     "text": [
      "CHANGE: 5\n"
     ]
    },
    {
     "name": "stderr",
     "output_type": "stream",
     "text": [
      "No configs specified for inline runner\n"
     ]
    },
    {
     "name": "stdout",
     "output_type": "stream",
     "text": [
      "CHANGE: 0.5569270833333332\n"
     ]
    },
    {
     "name": "stderr",
     "output_type": "stream",
     "text": [
      "No configs specified for inline runner\n"
     ]
    },
    {
     "name": "stdout",
     "output_type": "stream",
     "text": [
      "CHANGE: 0.2477714029947915\n"
     ]
    },
    {
     "name": "stderr",
     "output_type": "stream",
     "text": [
      "No configs specified for inline runner\n"
     ]
    },
    {
     "name": "stdout",
     "output_type": "stream",
     "text": [
      "CHANGE: 0.14416794281005854\n"
     ]
    },
    {
     "name": "stderr",
     "output_type": "stream",
     "text": [
      "No configs specified for inline runner\n"
     ]
    },
    {
     "name": "stdout",
     "output_type": "stream",
     "text": [
      "CHANGE: 0.09510088077280263\n"
     ]
    },
    {
     "name": "stderr",
     "output_type": "stream",
     "text": [
      "No configs specified for inline runner\n"
     ]
    },
    {
     "name": "stdout",
     "output_type": "stream",
     "text": [
      "CHANGE: 0.06655461158382334\n"
     ]
    },
    {
     "name": "stderr",
     "output_type": "stream",
     "text": [
      "No configs specified for inline runner\n"
     ]
    },
    {
     "name": "stdout",
     "output_type": "stream",
     "text": [
      "CHANGE: 0.046644505992680926\n"
     ]
    },
    {
     "name": "stderr",
     "output_type": "stream",
     "text": [
      "No configs specified for inline runner\n"
     ]
    },
    {
     "name": "stdout",
     "output_type": "stream",
     "text": [
      "CHANGE: 0.0345415575008707\n"
     ]
    },
    {
     "name": "stderr",
     "output_type": "stream",
     "text": [
      "No configs specified for inline runner\n"
     ]
    },
    {
     "name": "stdout",
     "output_type": "stream",
     "text": [
      "CHANGE: 0.024302100440839455\n"
     ]
    },
    {
     "name": "stderr",
     "output_type": "stream",
     "text": [
      "No configs specified for inline runner\n"
     ]
    },
    {
     "name": "stdout",
     "output_type": "stream",
     "text": [
      "CHANGE: 0.01796412252386087\n"
     ]
    },
    {
     "name": "stderr",
     "output_type": "stream",
     "text": [
      "No configs specified for inline runner\n"
     ]
    },
    {
     "name": "stdout",
     "output_type": "stream",
     "text": [
      "CHANGE: 0.012635101917654074\n"
     ]
    },
    {
     "name": "stderr",
     "output_type": "stream",
     "text": [
      "No configs specified for inline runner\n"
     ]
    },
    {
     "name": "stdout",
     "output_type": "stream",
     "text": [
      "CHANGE: 0.009320178333978607\n"
     ]
    },
    {
     "name": "stderr",
     "output_type": "stream",
     "text": [
      "No configs specified for inline runner\n"
     ]
    },
    {
     "name": "stdout",
     "output_type": "stream",
     "text": [
      "CHANGE: 0.0065423157993076755\n"
     ]
    },
    {
     "name": "stderr",
     "output_type": "stream",
     "text": [
      "No configs specified for inline runner\n"
     ]
    },
    {
     "name": "stdout",
     "output_type": "stream",
     "text": [
      "CHANGE: 0.004830022672327461\n"
     ]
    },
    {
     "name": "stderr",
     "output_type": "stream",
     "text": [
      "No configs specified for inline runner\n"
     ]
    },
    {
     "name": "stdout",
     "output_type": "stream",
     "text": [
      "CHANGE: 0.003381403367670288\n"
     ]
    },
    {
     "name": "stderr",
     "output_type": "stream",
     "text": [
      "No configs specified for inline runner\n"
     ]
    },
    {
     "name": "stdout",
     "output_type": "stream",
     "text": [
      "CHANGE: 0.002502305602196546\n"
     ]
    },
    {
     "name": "stderr",
     "output_type": "stream",
     "text": [
      "No configs specified for inline runner\n"
     ]
    },
    {
     "name": "stdout",
     "output_type": "stream",
     "text": [
      "CHANGE: 0.001746364635276977\n"
     ]
    },
    {
     "name": "stderr",
     "output_type": "stream",
     "text": [
      "No configs specified for inline runner\n"
     ]
    },
    {
     "name": "stdout",
     "output_type": "stream",
     "text": [
      "CHANGE: 0.001296452884412859\n"
     ]
    },
    {
     "name": "stderr",
     "output_type": "stream",
     "text": [
      "No configs specified for inline runner\n"
     ]
    },
    {
     "name": "stdout",
     "output_type": "stream",
     "text": [
      "CHANGE: 0.0009016742748082923\n"
     ]
    },
    {
     "name": "stderr",
     "output_type": "stream",
     "text": [
      "No configs specified for inline runner\n"
     ]
    },
    {
     "name": "stdout",
     "output_type": "stream",
     "text": [
      "CHANGE: 0.0006718436796632685\n"
     ]
    },
    {
     "name": "stderr",
     "output_type": "stream",
     "text": [
      "No configs specified for inline runner\n"
     ]
    },
    {
     "name": "stdout",
     "output_type": "stream",
     "text": [
      "CHANGE: 0.0004655158615147273\n"
     ]
    },
    {
     "name": "stderr",
     "output_type": "stream",
     "text": [
      "No configs specified for inline runner\n"
     ]
    },
    {
     "name": "stdout",
     "output_type": "stream",
     "text": [
      "CHANGE: 0.00034826434586695404\n"
     ]
    },
    {
     "name": "stderr",
     "output_type": "stream",
     "text": [
      "No configs specified for inline runner\n"
     ]
    },
    {
     "name": "stdout",
     "output_type": "stream",
     "text": [
      "CHANGE: 0.00024034434224538825\n"
     ]
    },
    {
     "name": "stderr",
     "output_type": "stream",
     "text": [
      "No configs specified for inline runner\n"
     ]
    },
    {
     "name": "stdout",
     "output_type": "stream",
     "text": [
      "CHANGE: 0.00018059213631759635\n"
     ]
    },
    {
     "name": "stderr",
     "output_type": "stream",
     "text": [
      "No configs specified for inline runner\n"
     ]
    },
    {
     "name": "stdout",
     "output_type": "stream",
     "text": [
      "CHANGE: 0.00012414759732488206\n"
     ]
    },
    {
     "name": "stderr",
     "output_type": "stream",
     "text": [
      "No configs specified for inline runner\n"
     ]
    },
    {
     "name": "stdout",
     "output_type": "stream",
     "text": [
      "CHANGE: 9.368099734877872e-05\n"
     ]
    },
    {
     "name": "stderr",
     "output_type": "stream",
     "text": [
      "No configs specified for inline runner\n"
     ]
    },
    {
     "name": "stdout",
     "output_type": "stream",
     "text": [
      "CHANGE: 6.427606263694624e-05\n"
     ]
    },
    {
     "name": "stderr",
     "output_type": "stream",
     "text": [
      "No configs specified for inline runner\n"
     ]
    },
    {
     "name": "stdout",
     "output_type": "stream",
     "text": [
      "CHANGE: 4.8615905559948325e-05\n"
     ]
    },
    {
     "name": "stderr",
     "output_type": "stream",
     "text": [
      "No configs specified for inline runner\n"
     ]
    },
    {
     "name": "stdout",
     "output_type": "stream",
     "text": [
      "CHANGE: 3.328811225097178e-05\n"
     ]
    },
    {
     "name": "stderr",
     "output_type": "stream",
     "text": [
      "No configs specified for inline runner\n"
     ]
    },
    {
     "name": "stdout",
     "output_type": "stream",
     "text": [
      "CHANGE: 2.5240029982054324e-05\n"
     ]
    },
    {
     "name": "stderr",
     "output_type": "stream",
     "text": [
      "No configs specified for inline runner\n"
     ]
    },
    {
     "name": "stdout",
     "output_type": "stream",
     "text": [
      "CHANGE: 1.7245111405307656e-05\n"
     ]
    },
    {
     "name": "stderr",
     "output_type": "stream",
     "text": [
      "No configs specified for inline runner\n"
     ]
    },
    {
     "name": "stdout",
     "output_type": "stream",
     "text": [
      "CHANGE: 1.31098011012451e-05\n"
     ]
    }
   ],
   "source": [
    "from main import MRPageRank\n",
    "\n",
    "fileName = 'PADGB.txt'\n",
    "tolerance = 0.00001\n",
    "change = 5\n",
    "mr_job = MRPageRank(args=[fileName])\n",
    "\n",
    "while change > tolerance:\n",
    "    print(f'CHANGE: {change}')\n",
    "    with mr_job.make_runner() as runner:\n",
    "        change = 0\n",
    "        runner.run()\n",
    "        with open(fileName, 'w') as f:\n",
    "            for el in mr_job.parse_output(runner.cat_output()):\n",
    "                old_rank = el[1][3]\n",
    "                new_rank = el[1][0]\n",
    "                change += abs(new_rank - old_rank)\n",
    "                f.write(f'{el[0]}: {el[1][:3]}\\n')"
   ]
  }
 ],
 "metadata": {
  "kernelspec": {
   "display_name": "Python 3",
   "language": "python",
   "name": "python3"
  },
  "language_info": {
   "codemirror_mode": {
    "name": "ipython",
    "version": 3
   },
   "file_extension": ".py",
   "mimetype": "text/x-python",
   "name": "python",
   "nbconvert_exporter": "python",
   "pygments_lexer": "ipython3",
   "version": "3.11.8"
  }
 },
 "nbformat": 4,
 "nbformat_minor": 2
}
